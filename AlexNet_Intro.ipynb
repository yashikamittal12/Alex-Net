{
  "cells": [
    {
      "cell_type": "code",
      "execution_count": null,
      "metadata": {
        "id": "3XWd7J_xI6cV"
      },
      "outputs": [],
      "source": [
        "import tensorflow as tf\n",
        "from tensorflow.keras.models import Sequential\n",
        "from tensorflow.keras.layers import Conv2D, MaxPooling2D, Flatten, Dense, Dropout"
      ]
    },
    {
      "cell_type": "code",
      "execution_count": null,
      "metadata": {
        "colab": {
          "base_uri": "https://localhost:8080/"
        },
        "id": "nYqHY3Lge2ZM",
        "outputId": "5aff1ddf-4705-4e0c-d1f2-ce17612f64ed"
      },
      "outputs": [
        {
          "name": "stdout",
          "output_type": "stream",
          "text": [
            "Mounted at /content/drive\n"
          ]
        }
      ],
      "source": [
        "from google.colab import drive\n",
        "drive.mount('/content/drive')"
      ]
    },
    {
      "cell_type": "code",
      "execution_count": null,
      "metadata": {
        "id": "X7ebEsILfuf6"
      },
      "outputs": [],
      "source": [
        "!unzip /content/drive/MyDrive/Plant_village/plant_village.zip -d /content/"
      ]
    },
    {
      "cell_type": "code",
      "execution_count": null,
      "metadata": {
        "id": "mHWgLrjWeKt-"
      },
      "outputs": [],
      "source": [
        "import pandas as pd\n",
        "import numpy as np\n",
        "import os\n",
        "import PIL\n",
        "import pathlib\n",
        "\n",
        "from tensorflow import keras\n",
        "from tensorflow.keras import layers\n",
        "from tensorflow.keras.models import Sequential"
      ]
    },
    {
      "cell_type": "code",
      "execution_count": null,
      "metadata": {
        "id": "QutVTVqBeKw5"
      },
      "outputs": [],
      "source": [
        "path='/content/PlantVillage'"
      ]
    },
    {
      "cell_type": "code",
      "execution_count": null,
      "metadata": {
        "colab": {
          "base_uri": "https://localhost:8080/"
        },
        "id": "WM-hWG5MeK0P",
        "outputId": "e7d63cc8-9a8e-4567-bf83-f05d856ccfbf"
      },
      "outputs": [
        {
          "name": "stdout",
          "output_type": "stream",
          "text": [
            "Found 20638 files belonging to 15 classes.\n",
            "Using 16511 files for training.\n"
          ]
        }
      ],
      "source": [
        "# training data\n",
        "img_height,img_width=180,180\n",
        "batch_size=32\n",
        "train_ds = tf.keras.preprocessing.image_dataset_from_directory(\n",
        "  path ,\n",
        "  validation_split=0.2,\n",
        "  subset=\"training\",\n",
        "  seed=123,\n",
        "  image_size=(img_height, img_width),\n",
        "  batch_size=batch_size)"
      ]
    },
    {
      "cell_type": "code",
      "execution_count": null,
      "metadata": {
        "colab": {
          "base_uri": "https://localhost:8080/"
        },
        "id": "_vMGPM2-eVcD",
        "outputId": "af0d574d-48b3-4a8e-af39-5cab80154143"
      },
      "outputs": [
        {
          "data": {
            "text/plain": [
              "<_PrefetchDataset element_spec=(TensorSpec(shape=(None, 180, 180, 3), dtype=tf.float32, name=None), TensorSpec(shape=(None,), dtype=tf.int32, name=None))>"
            ]
          },
          "execution_count": 7,
          "metadata": {},
          "output_type": "execute_result"
        }
      ],
      "source": [
        "train_ds"
      ]
    },
    {
      "cell_type": "code",
      "execution_count": null,
      "metadata": {
        "colab": {
          "base_uri": "https://localhost:8080/"
        },
        "id": "LNK2RGQ3eVfb",
        "outputId": "58dd6e57-ef2c-4b3f-dbf4-64a03a7be174"
      },
      "outputs": [
        {
          "name": "stdout",
          "output_type": "stream",
          "text": [
            "Found 20638 files belonging to 15 classes.\n",
            "Using 4127 files for validation.\n"
          ]
        }
      ],
      "source": [
        "# testing data(validation data)\n",
        "img_height,img_width=180,180\n",
        "batch_size=32\n",
        "val_ds = tf.keras.preprocessing.image_dataset_from_directory(\n",
        "  path ,\n",
        "  validation_split=0.2,\n",
        "  subset=\"validation\",\n",
        "  seed=123,\n",
        "  image_size=(img_height, img_width),\n",
        "  batch_size=batch_size)"
      ]
    },
    {
      "cell_type": "code",
      "execution_count": null,
      "metadata": {
        "colab": {
          "base_uri": "https://localhost:8080/"
        },
        "id": "WNQD-EZBebWR",
        "outputId": "a862a608-ae3f-4bc3-e896-00526589f588"
      },
      "outputs": [
        {
          "name": "stdout",
          "output_type": "stream",
          "text": [
            "['Pepper__bell___Bacterial_spot', 'Pepper__bell___healthy', 'Potato___Early_blight', 'Potato___Late_blight', 'Potato___healthy', 'Tomato_Bacterial_spot', 'Tomato_Early_blight', 'Tomato_Late_blight', 'Tomato_Leaf_Mold', 'Tomato_Septoria_leaf_spot', 'Tomato_Spider_mites_Two_spotted_spider_mite', 'Tomato__Target_Spot', 'Tomato__Tomato_YellowLeaf__Curl_Virus', 'Tomato__Tomato_mosaic_virus', 'Tomato_healthy']\n"
          ]
        }
      ],
      "source": [
        "# displaying categories\n",
        "cn=train_ds.class_names\n",
        "print(cn)"
      ]
    },
    {
      "cell_type": "code",
      "execution_count": null,
      "metadata": {
        "colab": {
          "base_uri": "https://localhost:8080/"
        },
        "id": "myb27u4KebZy",
        "outputId": "05147617-101b-4377-f0fb-5f85f7478fa5"
      },
      "outputs": [
        {
          "data": {
            "text/plain": [
              "15"
            ]
          },
          "execution_count": 10,
          "metadata": {},
          "output_type": "execute_result"
        }
      ],
      "source": [
        "len(cn)"
      ]
    },
    {
      "cell_type": "code",
      "execution_count": null,
      "metadata": {
        "id": "Jz-X4m6LKEXh"
      },
      "outputs": [],
      "source": [
        "def alexnet_model(input_shape=(180, 180, 3), num_classes=15):\n",
        "  model = Sequential()\n",
        " # model.add(experimental.preprocessing.Rescaling(1./255, input_shape=(img_height, img_width, 3))),\n",
        "  # we have not return input shape\n",
        "  model.add(Conv2D(96, (11,11),strides=(4,4) , padding='same', activation='relu',input_shape=input_shape)),\n",
        "  model.add(MaxPooling2D((3,3),strides=(2,2))),\n",
        "\n",
        "  model.add(Conv2D(256, (5,5), padding='same', activation='relu')),\n",
        "  model.add(MaxPooling2D((3,3),strides=(2,2))),\n",
        "\n",
        "  # multiple convulational layer\n",
        "  model.add(Conv2D(384, (3,3), padding='same', activation='relu')),\n",
        "  model.add(Conv2D(384, (3,3), padding='same', activation='relu')),\n",
        "  model.add(Conv2D(384, (3,3), padding='same', activation='relu')),\n",
        "  model.add(MaxPooling2D((3,3),strides=(2,2))),\n",
        "  # adding fully connected layer\n",
        "\n",
        "  model.add(Flatten()),\n",
        "  model.add(Dense(4096, activation='relu')),\n",
        "  model.add(Dropout(0.5)),\n",
        "  model.add(Dense(4096, activation='relu')),\n",
        "  model.add(Dropout(0.5)),\n",
        "  model.add(Dense(num_classes,activation='softmax'))\n",
        "\n",
        "  return model\n",
        "  model.summary()"
      ]
    },
    {
      "cell_type": "code",
      "execution_count": null,
      "metadata": {
        "id": "JINvciHeRxsQ"
      },
      "outputs": [],
      "source": [
        "#model compiling\n",
        "model = alexnet_model(input_shape=(180, 180, 3), num_classes=15)\n",
        "model.compile(optimizer='adam',\n",
        "              loss=tf.keras.losses.SparseCategoricalCrossentropy(from_logits=True),\n",
        "              metrics=['accuracy'])"
      ]
    },
    {
      "cell_type": "code",
      "execution_count": null,
      "metadata": {
        "colab": {
          "background_save": true,
          "base_uri": "https://localhost:8080/"
        },
        "id": "o-9oNsYvdUpJ",
        "outputId": "960d10c2-7f63-40a5-9285-9dd8ce2885c3"
      },
      "outputs": [
        {
          "name": "stdout",
          "output_type": "stream",
          "text": [
            "Epoch 1/10\n"
          ]
        },
        {
          "name": "stderr",
          "output_type": "stream",
          "text": [
            "/usr/local/lib/python3.10/dist-packages/keras/src/backend.py:5727: UserWarning: \"`sparse_categorical_crossentropy` received `from_logits=True`, but the `output` argument was produced by a Softmax activation and thus does not represent logits. Was this intended?\n",
            "  output, from_logits = _get_logits(\n"
          ]
        },
        {
          "name": "stdout",
          "output_type": "stream",
          "text": [
            "516/516 [==============================] - 35s 54ms/step - loss: 3.3965 - accuracy: 0.1500 - val_loss: 2.5962 - val_accuracy: 0.1003\n",
            "Epoch 2/10\n",
            "516/516 [==============================] - 27s 52ms/step - loss: 2.5670 - accuracy: 0.1556 - val_loss: 2.5576 - val_accuracy: 0.1677\n",
            "Epoch 3/10\n",
            "516/516 [==============================] - 25s 48ms/step - loss: 2.6012 - accuracy: 0.1561 - val_loss: 2.5660 - val_accuracy: 0.1648\n",
            "Epoch 4/10\n",
            "516/516 [==============================] - 25s 49ms/step - loss: 2.5704 - accuracy: 0.1531 - val_loss: 2.5639 - val_accuracy: 0.1648\n",
            "Epoch 5/10\n",
            "516/516 [==============================] - 25s 49ms/step - loss: 2.5693 - accuracy: 0.1531 - val_loss: 2.5636 - val_accuracy: 0.1648\n",
            "Epoch 6/10\n",
            "516/516 [==============================] - 25s 48ms/step - loss: 2.5689 - accuracy: 0.1531 - val_loss: 2.5635 - val_accuracy: 0.1648\n",
            "Epoch 7/10\n",
            "516/516 [==============================] - 25s 48ms/step - loss: 2.5691 - accuracy: 0.1531 - val_loss: 2.5632 - val_accuracy: 0.1648\n",
            "Epoch 8/10\n",
            "516/516 [==============================] - 25s 49ms/step - loss: 2.5687 - accuracy: 0.1531 - val_loss: 2.5629 - val_accuracy: 0.1648\n",
            "Epoch 9/10\n",
            "516/516 [==============================] - 26s 50ms/step - loss: 2.5692 - accuracy: 0.1531 - val_loss: 2.5629 - val_accuracy: 0.1648\n",
            "Epoch 10/10\n",
            "516/516 [==============================] - 24s 47ms/step - loss: 2.5690 - accuracy: 0.1531 - val_loss: 2.5629 - val_accuracy: 0.1648\n"
          ]
        }
      ],
      "source": [
        "#training the model\n",
        "epochs=10\n",
        "history = model.fit(\n",
        "  train_ds,\n",
        "  validation_data=val_ds,\n",
        "  epochs=epochs\n",
        ")"
      ]
    },
    {
      "cell_type": "code",
      "execution_count": null,
      "metadata": {
        "id": "Yq_rKMgfdb6u"
      },
      "outputs": [],
      "source": [
        "def predict_image(img):\n",
        "  img_4d=img.reshape(-1,180,180,3)\n",
        "  prediction=model.predict(img_4d)[0]\n",
        "  return {class_names[i]: float(prediction[i]) for i in range(15)}"
      ]
    },
    {
      "cell_type": "code",
      "execution_count": null,
      "metadata": {
        "id": "0vcC6kiwdiH5"
      },
      "outputs": [],
      "source": [
        "import gradio as gr"
      ]
    },
    {
      "cell_type": "code",
      "execution_count": null,
      "metadata": {
        "id": "XAeFtSOjdlSs"
      },
      "outputs": [],
      "source": [
        "image = gr.Image()\n",
        "label = gr.Label(num_top_classes=15)\n",
        "\n",
        "gr.Interface(fn=predict_image, inputs=image, outputs=label).launch(share='True')"
      ]
    },
    {
      "cell_type": "markdown",
      "metadata": {
        "id": "PaxU1sAxJbib"
      },
      "source": []
    }
  ],
  "metadata": {
    "accelerator": "GPU",
    "colab": {
      "gpuType": "T4",
      "provenance": []
    },
    "kernelspec": {
      "display_name": "Python 3",
      "name": "python3"
    },
    "language_info": {
      "name": "python"
    }
  },
  "nbformat": 4,
  "nbformat_minor": 0
}